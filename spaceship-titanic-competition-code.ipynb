{
 "cells": [
  {
   "cell_type": "markdown",
   "id": "1f5283dd",
   "metadata": {
    "papermill": {
     "duration": 0.01487,
     "end_time": "2024-03-29T01:33:45.412275",
     "exception": false,
     "start_time": "2024-03-29T01:33:45.397405",
     "status": "completed"
    },
    "tags": []
   },
   "source": []
  },
  {
   "cell_type": "markdown",
   "id": "0849d7ef",
   "metadata": {
    "papermill": {
     "duration": 0.012571,
     "end_time": "2024-03-29T01:33:45.437968",
     "exception": false,
     "start_time": "2024-03-29T01:33:45.425397",
     "status": "completed"
    },
    "tags": []
   },
   "source": [
    "### Part 1: Let's set everything up"
   ]
  },
  {
   "cell_type": "markdown",
   "id": "1d7c4cee",
   "metadata": {
    "papermill": {
     "duration": 0.014361,
     "end_time": "2024-03-29T01:33:45.466103",
     "exception": false,
     "start_time": "2024-03-29T01:33:45.451742",
     "status": "completed"
    },
    "tags": []
   },
   "source": [
    "#### Importing libraries."
   ]
  },
  {
   "cell_type": "code",
   "execution_count": 1,
   "id": "53fcec08",
   "metadata": {
    "_cell_guid": "b1076dfc-b9ad-4769-8c92-a6c4dae69d19",
    "_uuid": "8f2839f25d086af736a60e9eeb907d3b93b6e0e5",
    "execution": {
     "iopub.execute_input": "2024-03-29T01:33:45.494409Z",
     "iopub.status.busy": "2024-03-29T01:33:45.493612Z",
     "iopub.status.idle": "2024-03-29T01:33:46.628320Z",
     "shell.execute_reply": "2024-03-29T01:33:46.626506Z"
    },
    "papermill": {
     "duration": 1.152161,
     "end_time": "2024-03-29T01:33:46.631180",
     "exception": false,
     "start_time": "2024-03-29T01:33:45.479019",
     "status": "completed"
    },
    "tags": []
   },
   "outputs": [
    {
     "name": "stdout",
     "output_type": "stream",
     "text": [
      "/kaggle/input/spaceship-titanic/sample_submission.csv\n",
      "/kaggle/input/spaceship-titanic/train.csv\n",
      "/kaggle/input/spaceship-titanic/test.csv\n"
     ]
    }
   ],
   "source": [
    "# This Python 3 environment comes with many helpful analytics libraries installed\n",
    "# It is defined by the kaggle/python Docker image: https://github.com/kaggle/docker-python\n",
    "# For example, here's several helpful packages to load\n",
    "\n",
    "import numpy as np # linear algebra\n",
    "import pandas as pd # data processing, CSV file I/O (e.g. pd.read_csv)\n",
    "import matplotlib.pyplot as plt\n",
    "import seaborn as sns\n",
    "\n",
    "# Input data files are available in the read-only \"../input/\" directory\n",
    "# For example, running this (by clicking run or pressing Shift+Enter) will list all files under the input directory\n",
    "\n",
    "import os\n",
    "for dirname, _, filenames in os.walk('/kaggle/input'):\n",
    "    for filename in filenames:\n",
    "        print(os.path.join(dirname, filename))\n",
    "\n",
    "# You can write up to 20GB to the current directory (/kaggle/working/) that gets preserved as output when you create a version using \"Save & Run All\" \n",
    "# You can also write temporary files to /kaggle/temp/, but they won't be saved outside of the current session"
   ]
  },
  {
   "cell_type": "markdown",
   "id": "9026c572",
   "metadata": {
    "papermill": {
     "duration": 0.013402,
     "end_time": "2024-03-29T01:33:46.658038",
     "exception": false,
     "start_time": "2024-03-29T01:33:46.644636",
     "status": "completed"
    },
    "tags": []
   },
   "source": [
    "#### Importing Data."
   ]
  },
  {
   "cell_type": "code",
   "execution_count": 2,
   "id": "e0365a76",
   "metadata": {
    "execution": {
     "iopub.execute_input": "2024-03-29T01:33:46.686312Z",
     "iopub.status.busy": "2024-03-29T01:33:46.685888Z",
     "iopub.status.idle": "2024-03-29T01:33:46.798375Z",
     "shell.execute_reply": "2024-03-29T01:33:46.797198Z"
    },
    "papermill": {
     "duration": 0.129985,
     "end_time": "2024-03-29T01:33:46.801236",
     "exception": false,
     "start_time": "2024-03-29T01:33:46.671251",
     "status": "completed"
    },
    "tags": []
   },
   "outputs": [],
   "source": [
    "train_df = pd.read_csv('/kaggle/input/spaceship-titanic/train.csv')\n",
    "test_df = pd.read_csv('/kaggle/input/spaceship-titanic/test.csv')\n",
    "sample_df = pd.read_csv('/kaggle/input/spaceship-titanic/sample_submission.csv')\n",
    "\n",
    "train = train_df.copy()\n",
    "test = test_df.copy()\n",
    "sample = sample_df.copy()\n",
    "train_test = pd.concat([train,test],axis=0,ignore_index=True)"
   ]
  },
  {
   "cell_type": "markdown",
   "id": "05186333",
   "metadata": {
    "papermill": {
     "duration": 0.012976,
     "end_time": "2024-03-29T01:33:46.827467",
     "exception": false,
     "start_time": "2024-03-29T01:33:46.814491",
     "status": "completed"
    },
    "tags": []
   },
   "source": [
    "### Part 2: EDA & Feature Engineering"
   ]
  },
  {
   "cell_type": "markdown",
   "id": "f0257799",
   "metadata": {
    "papermill": {
     "duration": 0.01287,
     "end_time": "2024-03-29T01:33:46.853712",
     "exception": false,
     "start_time": "2024-03-29T01:33:46.840842",
     "status": "completed"
    },
    "tags": []
   },
   "source": [
    "#### Correlation between some numerical features and the target."
   ]
  },
  {
   "cell_type": "code",
   "execution_count": 3,
   "id": "1edab0e8",
   "metadata": {
    "execution": {
     "iopub.execute_input": "2024-03-29T01:33:46.881947Z",
     "iopub.status.busy": "2024-03-29T01:33:46.881537Z",
     "iopub.status.idle": "2024-03-29T01:33:46.904206Z",
     "shell.execute_reply": "2024-03-29T01:33:46.902884Z"
    },
    "papermill": {
     "duration": 0.039873,
     "end_time": "2024-03-29T01:33:46.906895",
     "exception": false,
     "start_time": "2024-03-29T01:33:46.867022",
     "status": "completed"
    },
    "tags": []
   },
   "outputs": [
    {
     "data": {
      "text/plain": [
       "RoomService     0.244611\n",
       "Spa             0.221131\n",
       "VRDeck          0.207075\n",
       "Age             0.075026\n",
       "FoodCourt       0.046566\n",
       "ShoppingMall    0.010141\n",
       "Name: Transported, dtype: float64"
      ]
     },
     "execution_count": 3,
     "metadata": {},
     "output_type": "execute_result"
    }
   ],
   "source": [
    "train.corr().Transported.abs().sort_values(ascending=False).drop('Transported',axis=0)"
   ]
  },
  {
   "cell_type": "code",
   "execution_count": 4,
   "id": "88b47753",
   "metadata": {
    "execution": {
     "iopub.execute_input": "2024-03-29T01:33:46.936334Z",
     "iopub.status.busy": "2024-03-29T01:33:46.935167Z",
     "iopub.status.idle": "2024-03-29T01:33:47.174772Z",
     "shell.execute_reply": "2024-03-29T01:33:47.173507Z"
    },
    "papermill": {
     "duration": 0.256947,
     "end_time": "2024-03-29T01:33:47.177284",
     "exception": false,
     "start_time": "2024-03-29T01:33:46.920337",
     "status": "completed"
    },
    "tags": []
   },
   "outputs": [
    {
     "data": {
      "text/plain": [
       "<AxesSubplot:>"
      ]
     },
     "execution_count": 4,
     "metadata": {},
     "output_type": "execute_result"
    },
    {
     "data": {
      "image/png": "[encoded data removed]",
      "text/plain": [
       "<Figure size 1000x500 with 1 Axes>"
      ]
     },
     "metadata": {
      "needs_background": "light"
     },
     "output_type": "display_data"
    }
   ],
   "source": [
    "num_fea_imp = train.corr().Transported.abs().sort_values(ascending=False).drop('Transported',axis=0)\n",
    "plt.figure(figsize=(10,5),dpi=100)\n",
    "sns.barplot(x=num_fea_imp.index,y=num_fea_imp.values)"
   ]
  },
  {
   "cell_type": "markdown",
   "id": "5138d103",
   "metadata": {
    "papermill": {
     "duration": 0.013444,
     "end_time": "2024-03-29T01:33:47.204859",
     "exception": false,
     "start_time": "2024-03-29T01:33:47.191415",
     "status": "completed"
    },
    "tags": []
   },
   "source": [
    "#### Let's check out what the traning data looks like."
   ]
  },
  {
   "cell_type": "code",
   "execution_count": 5,
   "id": "a9d4c891",
   "metadata": {
    "execution": {
     "iopub.execute_input": "2024-03-29T01:33:47.234195Z",
     "iopub.status.busy": "2024-03-29T01:33:47.233785Z",
     "iopub.status.idle": "2024-03-29T01:33:47.258878Z",
     "shell.execute_reply": "2024-03-29T01:33:47.257666Z"
    },
    "papermill": {
     "duration": 0.043038,
     "end_time": "2024-03-29T01:33:47.261563",
     "exception": false,
     "start_time": "2024-03-29T01:33:47.218525",
     "status": "completed"
    },
    "tags": []
   },
   "outputs": [
    {
     "data": {
      "text/html": [
       "<div>\n",
       "<style scoped>\n",
       "    .dataframe tbody tr th:only-of-type {\n",
       "        vertical-align: middle;\n",
       "    }\n",
       "\n",
       "    .dataframe tbody tr th {\n",
       "        vertical-align: top;\n",
       "    }\n",
       "\n",
       "    .dataframe thead th {\n",
       "        text-align: right;\n",
       "    }\n",
       "</style>\n",
       "<table border=\"1\" class=\"dataframe\">\n",
       "  <thead>\n",
       "    <tr style=\"text-align: right;\">\n",
       "      <th></th>\n",
       "      <th>PassengerId</th>\n",
       "      <th>HomePlanet</th>\n",
       "      <th>CryoSleep</th>\n",
       "      <th>Cabin</th>\n",
       "      <th>Destination</th>\n",
       "      <th>Age</th>\n",
       "      <th>VIP</th>\n",
       "      <th>RoomService</th>\n",
       "      <th>FoodCourt</th>\n",
       "      <th>ShoppingMall</th>\n",
       "      <th>Spa</th>\n",
       "      <th>VRDeck</th>\n",
       "      <th>Name</th>\n",
       "      <th>Transported</th>\n",
       "    </tr>\n",
       "  </thead>\n",
       "  <tbody>\n",
       "    <tr>\n",
       "      <th>0</th>\n",
       "      <td>0001_01</td>\n",
       "      <td>Europa</td>\n",
       "      <td>False</td>\n",
       "      <td>B/0/P</td>\n",
       "      <td>TRAPPIST-1e</td>\n",
       "      <td>39.0</td>\n",
       "      <td>False</td>\n",
       "      <td>0.0</td>\n",
       "      <td>0.0</td>\n",
       "      <td>0.0</td>\n",
       "      <td>0.0</td>\n",
       "      <td>0.0</td>\n",
       "      <td>Maham Ofracculy</td>\n",
       "      <td>False</td>\n",
       "    </tr>\n",
       "    <tr>\n",
       "      <th>1</th>\n",
       "      <td>0002_01</td>\n",
       "      <td>Earth</td>\n",
       "      <td>False</td>\n",
       "      <td>F/0/S</td>\n",
       "      <td>TRAPPIST-1e</td>\n",
       "      <td>24.0</td>\n",
       "      <td>False</td>\n",
       "      <td>109.0</td>\n",
       "      <td>9.0</td>\n",
       "      <td>25.0</td>\n",
       "      <td>549.0</td>\n",
       "      <td>44.0</td>\n",
       "      <td>Juanna Vines</td>\n",
       "      <td>True</td>\n",
       "    </tr>\n",
       "    <tr>\n",
       "      <th>2</th>\n",
       "      <td>0003_01</td>\n",
       "      <td>Europa</td>\n",
       "      <td>False</td>\n",
       "      <td>A/0/S</td>\n",
       "      <td>TRAPPIST-1e</td>\n",
       "      <td>58.0</td>\n",
       "      <td>True</td>\n",
       "      <td>43.0</td>\n",
       "      <td>3576.0</td>\n",
       "      <td>0.0</td>\n",
       "      <td>6715.0</td>\n",
       "      <td>49.0</td>\n",
       "      <td>Altark Susent</td>\n",
       "      <td>False</td>\n",
       "    </tr>\n",
       "    <tr>\n",
       "      <th>3</th>\n",
       "      <td>0003_02</td>\n",
       "      <td>Europa</td>\n",
       "      <td>False</td>\n",
       "      <td>A/0/S</td>\n",
       "      <td>TRAPPIST-1e</td>\n",
       "      <td>33.0</td>\n",
       "      <td>False</td>\n",
       "      <td>0.0</td>\n",
       "      <td>1283.0</td>\n",
       "      <td>371.0</td>\n",
       "      <td>3329.0</td>\n",
       "      <td>193.0</td>\n",
       "      <td>Solam Susent</td>\n",
       "      <td>False</td>\n",
       "    </tr>\n",
       "    <tr>\n",
       "      <th>4</th>\n",
       "      <td>0004_01</td>\n",
       "      <td>Earth</td>\n",
       "      <td>False</td>\n",
       "      <td>F/1/S</td>\n",
       "      <td>TRAPPIST-1e</td>\n",
       "      <td>16.0</td>\n",
       "      <td>False</td>\n",
       "      <td>303.0</td>\n",
       "      <td>70.0</td>\n",
       "      <td>151.0</td>\n",
       "      <td>565.0</td>\n",
       "      <td>2.0</td>\n",
       "      <td>Willy Santantines</td>\n",
       "      <td>True</td>\n",
       "    </tr>\n",
       "  </tbody>\n",
       "</table>\n",
       "</div>"
      ],
      "text/plain": [
       "  PassengerId HomePlanet CryoSleep  Cabin  Destination   Age    VIP  \\\n",
       "0     0001_01     Europa     False  B/0/P  TRAPPIST-1e  39.0  False   \n",
       "1     0002_01      Earth     False  F/0/S  TRAPPIST-1e  24.0  False   \n",
       "2     0003_01     Europa     False  A/0/S  TRAPPIST-1e  58.0   True   \n",
       "3     0003_02     Europa     False  A/0/S  TRAPPIST-1e  33.0  False   \n",
       "4     0004_01      Earth     False  F/1/S  TRAPPIST-1e  16.0  False   \n",
       "\n",
       "   RoomService  FoodCourt  ShoppingMall     Spa  VRDeck               Name  \\\n",
       "0          0.0        0.0           0.0     0.0     0.0    Maham Ofracculy   \n",
       "1        109.0        9.0          25.0   549.0    44.0       Juanna Vines   \n",
       "2         43.0     3576.0           0.0  6715.0    49.0      Altark Susent   \n",
       "3          0.0     1283.0         371.0  3329.0   193.0       Solam Susent   \n",
       "4        303.0       70.0         151.0   565.0     2.0  Willy Santantines   \n",
       "\n",
       "   Transported  \n",
       "0        False  \n",
       "1         True  \n",
       "2        False  \n",
       "3        False  \n",
       "4         True  "
      ]
     },
     "execution_count": 5,
     "metadata": {},
     "output_type": "execute_result"
    }
   ],
   "source": [
    "train.head()"
   ]
  },
  {
   "cell_type": "code",
   "execution_count": 6,
   "id": "c0fc567b",
   "metadata": {
    "execution": {
     "iopub.execute_input": "2024-03-29T01:33:47.291296Z",
     "iopub.status.busy": "2024-03-29T01:33:47.290696Z",
     "iopub.status.idle": "2024-03-29T01:33:47.299066Z",
     "shell.execute_reply": "2024-03-29T01:33:47.298065Z"
    },
    "papermill": {
     "duration": 0.0255,
     "end_time": "2024-03-29T01:33:47.301274",
     "exception": false,
     "start_time": "2024-03-29T01:33:47.275774",
     "status": "completed"
    },
    "tags": []
   },
   "outputs": [
    {
     "data": {
      "text/plain": [
       "PassengerId      object\n",
       "HomePlanet       object\n",
       "CryoSleep        object\n",
       "Cabin            object\n",
       "Destination      object\n",
       "Age             float64\n",
       "VIP              object\n",
       "RoomService     float64\n",
       "FoodCourt       float64\n",
       "ShoppingMall    float64\n",
       "Spa             float64\n",
       "VRDeck          float64\n",
       "Name             object\n",
       "Transported        bool\n",
       "dtype: object"
      ]
     },
     "execution_count": 6,
     "metadata": {},
     "output_type": "execute_result"
    }
   ],
   "source": [
    "train.dtypes"
   ]
  },
  {
   "cell_type": "markdown",
   "id": "7162755b",
   "metadata": {
    "papermill": {
     "duration": 0.013402,
     "end_time": "2024-03-29T01:33:47.328904",
     "exception": false,
     "start_time": "2024-03-29T01:33:47.315502",
     "status": "completed"
    },
    "tags": []
   },
   "source": [
    "#### There are not many features, let's explore them one by one."
   ]
  },
  {
   "cell_type": "markdown",
   "id": "e68923f8",
   "metadata": {
    "papermill": {
     "duration": 0.013407,
     "end_time": "2024-03-29T01:33:47.356217",
     "exception": false,
     "start_time": "2024-03-29T01:33:47.342810",
     "status": "completed"
    },
    "tags": []
   },
   "source": [
    "#### First, let's check if the target distribution is balanced."
   ]
  },
  {
   "cell_type": "code",
   "execution_count": 7,
   "id": "58a4ae17",
   "metadata": {
    "execution": {
     "iopub.execute_input": "2024-03-29T01:33:47.385647Z",
     "iopub.status.busy": "2024-03-29T01:33:47.385167Z",
     "iopub.status.idle": "2024-03-29T01:33:47.392375Z",
     "shell.execute_reply": "2024-03-29T01:33:47.391337Z"
    },
    "papermill": {
     "duration": 0.024838,
     "end_time": "2024-03-29T01:33:47.394730",
     "exception": false,
     "start_time": "2024-03-29T01:33:47.369892",
     "status": "completed"
    },
    "tags": []
   },
   "outputs": [
    {
     "data": {
      "text/plain": [
       "0.5036236051995858"
      ]
     },
     "execution_count": 7,
     "metadata": {},
     "output_type": "execute_result"
    }
   ],
   "source": [
    "# Transported \n",
    "train.Transported.sum()/len(train)"
   ]
  },
  {
   "cell_type": "markdown",
   "id": "446cb177",
   "metadata": {
    "papermill": {
     "duration": 0.013648,
     "end_time": "2024-03-29T01:33:47.422513",
     "exception": false,
     "start_time": "2024-03-29T01:33:47.408865",
     "status": "completed"
    },
    "tags": []
   },
   "source": [
    "#### Ok, about half of the passenger were transported. So pretty balanced proportion.\n",
    "#### Now, let's see how many values are missing for each feature."
   ]
  },
  {
   "cell_type": "code",
   "execution_count": 8,
   "id": "b9d53dba",
   "metadata": {
    "execution": {
     "iopub.execute_input": "2024-03-29T01:33:47.453017Z",
     "iopub.status.busy": "2024-03-29T01:33:47.452274Z",
     "iopub.status.idle": "2024-03-29T01:33:47.468958Z",
     "shell.execute_reply": "2024-03-29T01:33:47.467704Z"
    },
    "papermill": {
     "duration": 0.034415,
     "end_time": "2024-03-29T01:33:47.471394",
     "exception": false,
     "start_time": "2024-03-29T01:33:47.436979",
     "status": "completed"
    },
    "tags": []
   },
   "outputs": [
    {
     "data": {
      "text/plain": [
       "PassengerId        0\n",
       "HomePlanet       288\n",
       "CryoSleep        310\n",
       "Cabin            299\n",
       "Destination      274\n",
       "Age              270\n",
       "VIP              296\n",
       "RoomService      263\n",
       "FoodCourt        289\n",
       "ShoppingMall     306\n",
       "Spa              284\n",
       "VRDeck           268\n",
       "Name             294\n",
       "Transported     4277\n",
       "dtype: int64"
      ]
     },
     "execution_count": 8,
     "metadata": {},
     "output_type": "execute_result"
    }
   ],
   "source": [
    "train_test.isnull().sum()"
   ]
  },
  {
   "cell_type": "markdown",
   "id": "8b645946",
   "metadata": {
    "papermill": {
     "duration": 0.013689,
     "end_time": "2024-03-29T01:33:47.499269",
     "exception": false,
     "start_time": "2024-03-29T01:33:47.485580",
     "status": "completed"
    },
    "tags": []
   },
   "source": [
    "#### Every feature has missing values except for 'PassengerID'."
   ]
  },
  {
   "cell_type": "markdown",
   "id": "633dde3d",
   "metadata": {
    "papermill": {
     "duration": 0.013916,
     "end_time": "2024-03-29T01:33:47.527169",
     "exception": false,
     "start_time": "2024-03-29T01:33:47.513253",
     "status": "completed"
    },
    "tags": []
   },
   "source": [
    "#### Run this cell below to see if we have overlapping Passenger Groups between train and test data.\n",
    "#### Recall that the first 4 digits of the Passenger ID is their group number.\n",
    "#### If the result is 0, then no overlapping, meaning that this feature won't probably help too much to the traning process."
   ]
  },
  {
   "cell_type": "code",
   "execution_count": 9,
   "id": "81afb4bb",
   "metadata": {
    "execution": {
     "iopub.execute_input": "2024-03-29T01:33:47.557533Z",
     "iopub.status.busy": "2024-03-29T01:33:47.556807Z",
     "iopub.status.idle": "2024-03-29T01:33:47.598259Z",
     "shell.execute_reply": "2024-03-29T01:33:47.596473Z"
    },
    "papermill": {
     "duration": 0.059661,
     "end_time": "2024-03-29T01:33:47.600970",
     "exception": false,
     "start_time": "2024-03-29T01:33:47.541309",
     "status": "completed"
    },
    "tags": []
   },
   "outputs": [
    {
     "data": {
      "text/plain": [
       "0"
      ]
     },
     "execution_count": 9,
     "metadata": {},
     "output_type": "execute_result"
    }
   ],
   "source": [
    "# PaggenserID - Is there overlapping of Passenger Groups between train and test data?\n",
    "\n",
    "train['PassengerGroup'] = train.PassengerId.str.split('_',expand=True)[0].astype('int')\n",
    "test['PassengerGroup'] = test.PassengerId.str.split('_',expand=True)[0].astype('int')\n",
    "\n",
    "len(set(train['PassengerGroup'])) + len(set(test['PassengerGroup'])) - len(set(list(train['PassengerGroup'])+list(test['PassengerGroup'])))"
   ]
  },
  {
   "cell_type": "markdown",
   "id": "c81372ff",
   "metadata": {
    "papermill": {
     "duration": 0.013977,
     "end_time": "2024-03-29T01:33:47.629816",
     "exception": false,
     "start_time": "2024-03-29T01:33:47.615839",
     "status": "completed"
    },
    "tags": []
   },
   "source": [
    "#### Ok, we will drop the useless features later.\n",
    "#### Now move on to the 'HomePlanet' feature.\n",
    "#### Let's fill the null values with 'Unknown'."
   ]
  },
  {
   "cell_type": "code",
   "execution_count": 10,
   "id": "6852b860",
   "metadata": {
    "execution": {
     "iopub.execute_input": "2024-03-29T01:33:47.660715Z",
     "iopub.status.busy": "2024-03-29T01:33:47.659585Z",
     "iopub.status.idle": "2024-03-29T01:33:47.668325Z",
     "shell.execute_reply": "2024-03-29T01:33:47.667157Z"
    },
    "papermill": {
     "duration": 0.026913,
     "end_time": "2024-03-29T01:33:47.670971",
     "exception": false,
     "start_time": "2024-03-29T01:33:47.644058",
     "status": "completed"
    },
    "tags": []
   },
   "outputs": [],
   "source": [
    "# HomePlanet\n",
    "train['HomePlanet'] = train['HomePlanet'].fillna(value='Unknown')\n",
    "test['HomePlanet'] = test['HomePlanet'].fillna(value='Unknown')"
   ]
  },
  {
   "cell_type": "markdown",
   "id": "b89cf505",
   "metadata": {
    "papermill": {
     "duration": 0.014668,
     "end_time": "2024-03-29T01:33:47.700593",
     "exception": false,
     "start_time": "2024-03-29T01:33:47.685925",
     "status": "completed"
    },
    "tags": []
   },
   "source": [
    "#### Now the 'CryoSleep' feature.\n",
    "#### The missing values probably indicate that the person is not really dong cryosleep.\n",
    "#### Let's just fill them with False."
   ]
  },
  {
   "cell_type": "code",
   "execution_count": 11,
   "id": "aad923a3",
   "metadata": {
    "execution": {
     "iopub.execute_input": "2024-03-29T01:33:47.731585Z",
     "iopub.status.busy": "2024-03-29T01:33:47.730755Z",
     "iopub.status.idle": "2024-03-29T01:33:47.741045Z",
     "shell.execute_reply": "2024-03-29T01:33:47.739884Z"
    },
    "papermill": {
     "duration": 0.028771,
     "end_time": "2024-03-29T01:33:47.743737",
     "exception": false,
     "start_time": "2024-03-29T01:33:47.714966",
     "status": "completed"
    },
    "tags": []
   },
   "outputs": [],
   "source": [
    "# CryoSleep\n",
    "train['CryoSleep'] = train['CryoSleep'].fillna(value=False)\n",
    "test['CryoSleep'] = test['CryoSleep'].fillna(value=False)"
   ]
  },
  {
   "cell_type": "markdown",
   "id": "fc7330db",
   "metadata": {
    "papermill": {
     "duration": 0.014112,
     "end_time": "2024-03-29T01:33:47.772509",
     "exception": false,
     "start_time": "2024-03-29T01:33:47.758397",
     "status": "completed"
    },
    "tags": []
   },
   "source": [
    "#### The 'CabinDeck' feature is interesing.\n",
    "#### Since it contains location information, let's try to extract what we can.\n",
    "#### The 'Cabin' and 'CabinSide' features are created in the cell below.\n",
    "#### We didn't include a Cabin Number feature because there are way too many values of it.\n",
    "#### Null values are filled with 'U' for unknown."
   ]
  },
  {
   "cell_type": "code",
   "execution_count": 12,
   "id": "0eb5e7d0",
   "metadata": {
    "execution": {
     "iopub.execute_input": "2024-03-29T01:33:47.802866Z",
     "iopub.status.busy": "2024-03-29T01:33:47.802464Z",
     "iopub.status.idle": "2024-03-29T01:33:47.863703Z",
     "shell.execute_reply": "2024-03-29T01:33:47.862611Z"
    },
    "papermill": {
     "duration": 0.079568,
     "end_time": "2024-03-29T01:33:47.866355",
     "exception": false,
     "start_time": "2024-03-29T01:33:47.786787",
     "status": "completed"
    },
    "tags": []
   },
   "outputs": [],
   "source": [
    "# Cabin\n",
    "train['CabinDeck'] = train['Cabin'].str.split('/',expand=True)[0]\n",
    "test['CabinDeck'] = test['Cabin'].str.split('/',expand=True)[0]\n",
    "train['CabinDeck'] = train['CabinDeck'].fillna(value='U')\n",
    "test['CabinDeck'] = test['CabinDeck'].fillna(value='U')\n",
    "\n",
    "train['CabinSide'] = train['Cabin'].str.split('/',expand=True)[2]\n",
    "test['CabinSide'] = test['Cabin'].str.split('/',expand=True)[2]\n",
    "train['CabinSide'] = train['CabinSide'].fillna(value='U')\n",
    "test['CabinSide'] = test['CabinSide'].fillna(value='U')"
   ]
  },
  {
   "cell_type": "markdown",
   "id": "6287bf07",
   "metadata": {
    "papermill": {
     "duration": 0.014024,
     "end_time": "2024-03-29T01:33:47.894804",
     "exception": false,
     "start_time": "2024-03-29T01:33:47.880780",
     "status": "completed"
    },
    "tags": []
   },
   "source": [
    "#### Now 'Destination'!\n",
    "#### First let's map these weird names to some simple letters, because some estimators don't really support rare symbols.\n",
    "#### Then we fill the null values with 'U' for unknown."
   ]
  },
  {
   "cell_type": "code",
   "execution_count": 13,
   "id": "7b578b2c",
   "metadata": {
    "execution": {
     "iopub.execute_input": "2024-03-29T01:33:47.925170Z",
     "iopub.status.busy": "2024-03-29T01:33:47.924672Z",
     "iopub.status.idle": "2024-03-29T01:33:47.937542Z",
     "shell.execute_reply": "2024-03-29T01:33:47.936381Z"
    },
    "papermill": {
     "duration": 0.030871,
     "end_time": "2024-03-29T01:33:47.940009",
     "exception": false,
     "start_time": "2024-03-29T01:33:47.909138",
     "status": "completed"
    },
    "tags": []
   },
   "outputs": [],
   "source": [
    "# Destination\n",
    "dest_dic = {'TRAPPIST-1e':'A','55 Cancri e':'B','PSO J318.5-22':'C'}\n",
    "train['Destination'] = train['Destination'].map(dest_dic)\n",
    "train['Destination'] = train['Destination'].fillna(value='U')\n",
    "test['Destination'] = test['Destination'].map(dest_dic)\n",
    "test['Destination'] = test['Destination'].fillna(value='U')"
   ]
  },
  {
   "cell_type": "markdown",
   "id": "807b3098",
   "metadata": {
    "papermill": {
     "duration": 0.014102,
     "end_time": "2024-03-29T01:33:47.968919",
     "exception": false,
     "start_time": "2024-03-29T01:33:47.954817",
     "status": "completed"
    },
    "tags": []
   },
   "source": [
    "#### 'Age' is important.\n",
    "#### We can group by 'PassengerGroup' and 'HomePlanet' to fill in the null values.\n",
    "#### I tired both mean and median, and it seems the latter one performes better on this dataset.\n",
    "#### Let's also create a categorical variable for indicating if the passenger is adult or not."
   ]
  },
  {
   "cell_type": "code",
   "execution_count": 14,
   "id": "fc907200",
   "metadata": {
    "execution": {
     "iopub.execute_input": "2024-03-29T01:33:47.999610Z",
     "iopub.status.busy": "2024-03-29T01:33:47.999152Z",
     "iopub.status.idle": "2024-03-29T01:33:48.021158Z",
     "shell.execute_reply": "2024-03-29T01:33:48.020125Z"
    },
    "papermill": {
     "duration": 0.040358,
     "end_time": "2024-03-29T01:33:48.023799",
     "exception": false,
     "start_time": "2024-03-29T01:33:47.983441",
     "status": "completed"
    },
    "tags": []
   },
   "outputs": [],
   "source": [
    "# Age\n",
    "train['Age'] = train['Age'].fillna(train.groupby('PassengerGroup')['Age'].transform('median'))\n",
    "train['Age'] = train['Age'].fillna(train.groupby('HomePlanet')['Age'].transform('median'))\n",
    "\n",
    "test['Age'] = test['Age'].fillna(test.groupby('PassengerGroup')['Age'].transform('median'))\n",
    "test['Age'] = test['Age'].fillna(test.groupby('HomePlanet')['Age'].transform('median'))\n",
    "\n",
    "train['Adult'] = 1\n",
    "train.loc[train['Age']<18, 'Adult'] = 0\n",
    "\n",
    "test['Adult'] = 1\n",
    "test.loc[test['Age']<18, 'Adult'] = 0"
   ]
  },
  {
   "cell_type": "markdown",
   "id": "01e4b754",
   "metadata": {
    "papermill": {
     "duration": 0.014202,
     "end_time": "2024-03-29T01:33:48.052450",
     "exception": false,
     "start_time": "2024-03-29T01:33:48.038248",
     "status": "completed"
    },
    "tags": []
   },
   "source": [
    "#### Nothing crazy here with the 'VIP' feature.\n",
    "#### It's pretty normal for people who are not VIP to have no records.\n",
    "#### So let's just fill in null values with False."
   ]
  },
  {
   "cell_type": "code",
   "execution_count": 15,
   "id": "e065ac32",
   "metadata": {
    "execution": {
     "iopub.execute_input": "2024-03-29T01:33:48.083310Z",
     "iopub.status.busy": "2024-03-29T01:33:48.082905Z",
     "iopub.status.idle": "2024-03-29T01:33:48.092988Z",
     "shell.execute_reply": "2024-03-29T01:33:48.092091Z"
    },
    "papermill": {
     "duration": 0.028383,
     "end_time": "2024-03-29T01:33:48.095284",
     "exception": false,
     "start_time": "2024-03-29T01:33:48.066901",
     "status": "completed"
    },
    "tags": []
   },
   "outputs": [],
   "source": [
    "# VIP\n",
    "train['VIP'] = train['VIP'].fillna(value=False)\n",
    "test['VIP'] = test['VIP'].fillna(value=False)"
   ]
  },
  {
   "cell_type": "markdown",
   "id": "902ff9c7",
   "metadata": {
    "papermill": {
     "duration": 0.014157,
     "end_time": "2024-03-29T01:33:48.124309",
     "exception": false,
     "start_time": "2024-03-29T01:33:48.110152",
     "status": "completed"
    },
    "tags": []
   },
   "source": [
    "#### The billing features below are numerical values.\n",
    "#### Null values probably mean that the passenger did not spend at all (bill = 0).\n",
    "#### So let's fill in null values with 0."
   ]
  },
  {
   "cell_type": "code",
   "execution_count": 16,
   "id": "36f632a7",
   "metadata": {
    "execution": {
     "iopub.execute_input": "2024-03-29T01:33:48.156456Z",
     "iopub.status.busy": "2024-03-29T01:33:48.155322Z",
     "iopub.status.idle": "2024-03-29T01:33:48.169231Z",
     "shell.execute_reply": "2024-03-29T01:33:48.168042Z"
    },
    "papermill": {
     "duration": 0.032593,
     "end_time": "2024-03-29T01:33:48.171779",
     "exception": false,
     "start_time": "2024-03-29T01:33:48.139186",
     "status": "completed"
    },
    "tags": []
   },
   "outputs": [],
   "source": [
    "# RoomService, FoodCourt, ShoppingMall, Spa, VRDeck\n",
    "train[['RoomService','FoodCourt','ShoppingMall','Spa','VRDeck']] = train[['RoomService','FoodCourt','ShoppingMall','Spa','VRDeck']].fillna(value=0)\n",
    "test[['RoomService','FoodCourt','ShoppingMall','Spa','VRDeck']] = test[['RoomService','FoodCourt','ShoppingMall','Spa','VRDeck']].fillna(value=0)"
   ]
  },
  {
   "cell_type": "markdown",
   "id": "cbaaf4ad",
   "metadata": {
    "papermill": {
     "duration": 0.014385,
     "end_time": "2024-03-29T01:33:48.200402",
     "exception": false,
     "start_time": "2024-03-29T01:33:48.186017",
     "status": "completed"
    },
    "tags": []
   },
   "source": [
    "#### We can also create a 'TotalSpend' feature to add up all the bill amount."
   ]
  },
  {
   "cell_type": "code",
   "execution_count": 17,
   "id": "06b1a225",
   "metadata": {
    "execution": {
     "iopub.execute_input": "2024-03-29T01:33:48.230804Z",
     "iopub.status.busy": "2024-03-29T01:33:48.230352Z",
     "iopub.status.idle": "2024-03-29T01:33:48.239653Z",
     "shell.execute_reply": "2024-03-29T01:33:48.238450Z"
    },
    "papermill": {
     "duration": 0.027279,
     "end_time": "2024-03-29T01:33:48.241901",
     "exception": false,
     "start_time": "2024-03-29T01:33:48.214622",
     "status": "completed"
    },
    "tags": []
   },
   "outputs": [],
   "source": [
    "# Total Spend\n",
    "train['TotalSpend'] = train['RoomService']+train['FoodCourt']+train['ShoppingMall']+train['Spa']+train['VRDeck']\n",
    "test['TotalSpend'] = test['RoomService']+test['FoodCourt']+test['ShoppingMall']+test['Spa']+test['VRDeck']"
   ]
  },
  {
   "cell_type": "markdown",
   "id": "6e6c515f",
   "metadata": {
    "papermill": {
     "duration": 0.0139,
     "end_time": "2024-03-29T01:33:48.270001",
     "exception": false,
     "start_time": "2024-03-29T01:33:48.256101",
     "status": "completed"
    },
    "tags": []
   },
   "source": [
    "#### There might have something interesing with the 'Name' feature.\n",
    "#### We can extract their family name.\n",
    "#### Based on their family names, let's create a new feature 'FamilyMember' to count the total of passenger under the same family name.\n",
    "#### This might related to the 'Transported' result."
   ]
  },
  {
   "cell_type": "code",
   "execution_count": 18,
   "id": "c522ca42",
   "metadata": {
    "execution": {
     "iopub.execute_input": "2024-03-29T01:33:48.300404Z",
     "iopub.status.busy": "2024-03-29T01:33:48.299991Z",
     "iopub.status.idle": "2024-03-29T01:33:48.376595Z",
     "shell.execute_reply": "2024-03-29T01:33:48.375608Z"
    },
    "papermill": {
     "duration": 0.094998,
     "end_time": "2024-03-29T01:33:48.379181",
     "exception": false,
     "start_time": "2024-03-29T01:33:48.284183",
     "status": "completed"
    },
    "tags": []
   },
   "outputs": [],
   "source": [
    "# Name\n",
    "train['FamilyName'] = train['Name'].str.split(' ',expand=True)[1]\n",
    "train['FamilyName'] = train['FamilyName'].fillna('Unknown')\n",
    "\n",
    "test['FamilyName'] = test['Name'].str.split(' ',expand=True)[1]\n",
    "test['FamilyName'] = test['FamilyName'].fillna('Unknown')\n",
    "\n",
    "train_test['FamilyName'] = train_test['Name'].str.split(' ',expand=True)[1]\n",
    "train_test['FamilyName'] = train_test['FamilyName'].fillna('Unknown')\n",
    "\n",
    "family_name_dic = train_test['FamilyName'].value_counts().to_dict()\n",
    "family_name_dic['Unknown'] = 0\n",
    "\n",
    "train['FamilyMember'] = train['FamilyName']\n",
    "train['FamilyMember'] = train['FamilyMember'].map(family_name_dic)\n",
    "\n",
    "test['FamilyMember'] = test['FamilyName']\n",
    "test['FamilyMember'] = test['FamilyMember'].map(family_name_dic)"
   ]
  },
  {
   "cell_type": "markdown",
   "id": "f665e1fd",
   "metadata": {
    "papermill": {
     "duration": 0.01396,
     "end_time": "2024-03-29T01:33:48.407451",
     "exception": false,
     "start_time": "2024-03-29T01:33:48.393491",
     "status": "completed"
    },
    "tags": []
   },
   "source": [
    "#### Now we drop the extra columns."
   ]
  },
  {
   "cell_type": "code",
   "execution_count": 19,
   "id": "5a9b7504",
   "metadata": {
    "execution": {
     "iopub.execute_input": "2024-03-29T01:33:48.437798Z",
     "iopub.status.busy": "2024-03-29T01:33:48.437371Z",
     "iopub.status.idle": "2024-03-29T01:33:48.450358Z",
     "shell.execute_reply": "2024-03-29T01:33:48.449312Z"
    },
    "papermill": {
     "duration": 0.031427,
     "end_time": "2024-03-29T01:33:48.453096",
     "exception": false,
     "start_time": "2024-03-29T01:33:48.421669",
     "status": "completed"
    },
    "tags": []
   },
   "outputs": [],
   "source": [
    "train = train.drop(['PassengerId','PassengerGroup','Cabin','Name','FamilyName'],axis=1)\n",
    "test = test.drop(['PassengerId','PassengerGroup','Cabin','Name','FamilyName'],axis=1)"
   ]
  },
  {
   "cell_type": "markdown",
   "id": "dc2ae477",
   "metadata": {
    "papermill": {
     "duration": 0.014062,
     "end_time": "2024-03-29T01:33:48.481882",
     "exception": false,
     "start_time": "2024-03-29T01:33:48.467820",
     "status": "completed"
    },
    "tags": []
   },
   "source": [
    "#### You will get an error at further steps without converting boolean values to integers (0 and 1)."
   ]
  },
  {
   "cell_type": "code",
   "execution_count": 20,
   "id": "eff9e289",
   "metadata": {
    "execution": {
     "iopub.execute_input": "2024-03-29T01:33:48.513385Z",
     "iopub.status.busy": "2024-03-29T01:33:48.512214Z",
     "iopub.status.idle": "2024-03-29T01:33:48.522669Z",
     "shell.execute_reply": "2024-03-29T01:33:48.521516Z"
    },
    "papermill": {
     "duration": 0.028989,
     "end_time": "2024-03-29T01:33:48.525185",
     "exception": false,
     "start_time": "2024-03-29T01:33:48.496196",
     "status": "completed"
    },
    "tags": []
   },
   "outputs": [],
   "source": [
    "# Convert Bool to Int\n",
    "train[['CryoSleep','VIP','Transported']] = train[['CryoSleep','VIP','Transported']].astype(int)\n",
    "test[['CryoSleep','VIP']] = test[['CryoSleep','VIP']].astype(int)"
   ]
  },
  {
   "cell_type": "markdown",
   "id": "c958453d",
   "metadata": {
    "papermill": {
     "duration": 0.017132,
     "end_time": "2024-03-29T01:33:48.556714",
     "exception": false,
     "start_time": "2024-03-29T01:33:48.539582",
     "status": "completed"
    },
    "tags": []
   },
   "source": [
    "#### Now let's check out what we have now."
   ]
  },
  {
   "cell_type": "code",
   "execution_count": 21,
   "id": "67805c15",
   "metadata": {
    "execution": {
     "iopub.execute_input": "2024-03-29T01:33:48.589119Z",
     "iopub.status.busy": "2024-03-29T01:33:48.588735Z",
     "iopub.status.idle": "2024-03-29T01:33:48.609986Z",
     "shell.execute_reply": "2024-03-29T01:33:48.608995Z"
    },
    "papermill": {
     "duration": 0.039587,
     "end_time": "2024-03-29T01:33:48.612131",
     "exception": false,
     "start_time": "2024-03-29T01:33:48.572544",
     "status": "completed"
    },
    "tags": []
   },
   "outputs": [
    {
     "data": {
      "text/html": [
       "<div>\n",
       "<style scoped>\n",
       "    .dataframe tbody tr th:only-of-type {\n",
       "        vertical-align: middle;\n",
       "    }\n",
       "\n",
       "    .dataframe tbody tr th {\n",
       "        vertical-align: top;\n",
       "    }\n",
       "\n",
       "    .dataframe thead th {\n",
       "        text-align: right;\n",
       "    }\n",
       "</style>\n",
       "<table border=\"1\" class=\"dataframe\">\n",
       "  <thead>\n",
       "    <tr style=\"text-align: right;\">\n",
       "      <th></th>\n",
       "      <th>HomePlanet</th>\n",
       "      <th>CryoSleep</th>\n",
       "      <th>Destination</th>\n",
       "      <th>Age</th>\n",
       "      <th>VIP</th>\n",
       "      <th>RoomService</th>\n",
       "      <th>FoodCourt</th>\n",
       "      <th>ShoppingMall</th>\n",
       "      <th>Spa</th>\n",
       "      <th>VRDeck</th>\n",
       "      <th>Transported</th>\n",
       "      <th>CabinDeck</th>\n",
       "      <th>CabinSide</th>\n",
       "      <th>Adult</th>\n",
       "      <th>TotalSpend</th>\n",
       "      <th>FamilyMember</th>\n",
       "    </tr>\n",
       "  </thead>\n",
       "  <tbody>\n",
       "    <tr>\n",
       "      <th>0</th>\n",
       "      <td>Europa</td>\n",
       "      <td>0</td>\n",
       "      <td>A</td>\n",
       "      <td>39.0</td>\n",
       "      <td>0</td>\n",
       "      <td>0.0</td>\n",
       "      <td>0.0</td>\n",
       "      <td>0.0</td>\n",
       "      <td>0.0</td>\n",
       "      <td>0.0</td>\n",
       "      <td>0</td>\n",
       "      <td>B</td>\n",
       "      <td>P</td>\n",
       "      <td>1</td>\n",
       "      <td>0.0</td>\n",
       "      <td>3</td>\n",
       "    </tr>\n",
       "    <tr>\n",
       "      <th>1</th>\n",
       "      <td>Earth</td>\n",
       "      <td>0</td>\n",
       "      <td>A</td>\n",
       "      <td>24.0</td>\n",
       "      <td>0</td>\n",
       "      <td>109.0</td>\n",
       "      <td>9.0</td>\n",
       "      <td>25.0</td>\n",
       "      <td>549.0</td>\n",
       "      <td>44.0</td>\n",
       "      <td>1</td>\n",
       "      <td>F</td>\n",
       "      <td>S</td>\n",
       "      <td>1</td>\n",
       "      <td>736.0</td>\n",
       "      <td>4</td>\n",
       "    </tr>\n",
       "    <tr>\n",
       "      <th>2</th>\n",
       "      <td>Europa</td>\n",
       "      <td>0</td>\n",
       "      <td>A</td>\n",
       "      <td>58.0</td>\n",
       "      <td>1</td>\n",
       "      <td>43.0</td>\n",
       "      <td>3576.0</td>\n",
       "      <td>0.0</td>\n",
       "      <td>6715.0</td>\n",
       "      <td>49.0</td>\n",
       "      <td>0</td>\n",
       "      <td>A</td>\n",
       "      <td>S</td>\n",
       "      <td>1</td>\n",
       "      <td>10383.0</td>\n",
       "      <td>7</td>\n",
       "    </tr>\n",
       "    <tr>\n",
       "      <th>3</th>\n",
       "      <td>Europa</td>\n",
       "      <td>0</td>\n",
       "      <td>A</td>\n",
       "      <td>33.0</td>\n",
       "      <td>0</td>\n",
       "      <td>0.0</td>\n",
       "      <td>1283.0</td>\n",
       "      <td>371.0</td>\n",
       "      <td>3329.0</td>\n",
       "      <td>193.0</td>\n",
       "      <td>0</td>\n",
       "      <td>A</td>\n",
       "      <td>S</td>\n",
       "      <td>1</td>\n",
       "      <td>5176.0</td>\n",
       "      <td>7</td>\n",
       "    </tr>\n",
       "    <tr>\n",
       "      <th>4</th>\n",
       "      <td>Earth</td>\n",
       "      <td>0</td>\n",
       "      <td>A</td>\n",
       "      <td>16.0</td>\n",
       "      <td>0</td>\n",
       "      <td>303.0</td>\n",
       "      <td>70.0</td>\n",
       "      <td>151.0</td>\n",
       "      <td>565.0</td>\n",
       "      <td>2.0</td>\n",
       "      <td>1</td>\n",
       "      <td>F</td>\n",
       "      <td>S</td>\n",
       "      <td>0</td>\n",
       "      <td>1091.0</td>\n",
       "      <td>9</td>\n",
       "    </tr>\n",
       "  </tbody>\n",
       "</table>\n",
       "</div>"
      ],
      "text/plain": [
       "  HomePlanet  CryoSleep Destination   Age  VIP  RoomService  FoodCourt  \\\n",
       "0     Europa          0           A  39.0    0          0.0        0.0   \n",
       "1      Earth          0           A  24.0    0        109.0        9.0   \n",
       "2     Europa          0           A  58.0    1         43.0     3576.0   \n",
       "3     Europa          0           A  33.0    0          0.0     1283.0   \n",
       "4      Earth          0           A  16.0    0        303.0       70.0   \n",
       "\n",
       "   ShoppingMall     Spa  VRDeck  Transported CabinDeck CabinSide  Adult  \\\n",
       "0           0.0     0.0     0.0            0         B         P      1   \n",
       "1          25.0   549.0    44.0            1         F         S      1   \n",
       "2           0.0  6715.0    49.0            0         A         S      1   \n",
       "3         371.0  3329.0   193.0            0         A         S      1   \n",
       "4         151.0   565.0     2.0            1         F         S      0   \n",
       "\n",
       "   TotalSpend  FamilyMember  \n",
       "0         0.0             3  \n",
       "1       736.0             4  \n",
       "2     10383.0             7  \n",
       "3      5176.0             7  \n",
       "4      1091.0             9  "
      ]
     },
     "execution_count": 21,
     "metadata": {},
     "output_type": "execute_result"
    }
   ],
   "source": [
    "train.head()"
   ]
  },
  {
   "cell_type": "code",
   "execution_count": 22,
   "id": "fef86d04",
   "metadata": {
    "execution": {
     "iopub.execute_input": "2024-03-29T01:33:48.644321Z",
     "iopub.status.busy": "2024-03-29T01:33:48.643866Z",
     "iopub.status.idle": "2024-03-29T01:33:48.666393Z",
     "shell.execute_reply": "2024-03-29T01:33:48.665047Z"
    },
    "papermill": {
     "duration": 0.041578,
     "end_time": "2024-03-29T01:33:48.668827",
     "exception": false,
     "start_time": "2024-03-29T01:33:48.627249",
     "status": "completed"
    },
    "tags": []
   },
   "outputs": [
    {
     "data": {
      "text/html": [
       "<div>\n",
       "<style scoped>\n",
       "    .dataframe tbody tr th:only-of-type {\n",
       "        vertical-align: middle;\n",
       "    }\n",
       "\n",
       "    .dataframe tbody tr th {\n",
       "        vertical-align: top;\n",
       "    }\n",
       "\n",
       "    .dataframe thead th {\n",
       "        text-align: right;\n",
       "    }\n",
       "</style>\n",
       "<table border=\"1\" class=\"dataframe\">\n",
       "  <thead>\n",
       "    <tr style=\"text-align: right;\">\n",
       "      <th></th>\n",
       "      <th>HomePlanet</th>\n",
       "      <th>CryoSleep</th>\n",
       "      <th>Destination</th>\n",
       "      <th>Age</th>\n",
       "      <th>VIP</th>\n",
       "      <th>RoomService</th>\n",
       "      <th>FoodCourt</th>\n",
       "      <th>ShoppingMall</th>\n",
       "      <th>Spa</th>\n",
       "      <th>VRDeck</th>\n",
       "      <th>CabinDeck</th>\n",
       "      <th>CabinSide</th>\n",
       "      <th>Adult</th>\n",
       "      <th>TotalSpend</th>\n",
       "      <th>FamilyMember</th>\n",
       "    </tr>\n",
       "  </thead>\n",
       "  <tbody>\n",
       "    <tr>\n",
       "      <th>0</th>\n",
       "      <td>Earth</td>\n",
       "      <td>1</td>\n",
       "      <td>A</td>\n",
       "      <td>27.0</td>\n",
       "      <td>0</td>\n",
       "      <td>0.0</td>\n",
       "      <td>0.0</td>\n",
       "      <td>0.0</td>\n",
       "      <td>0.0</td>\n",
       "      <td>0.0</td>\n",
       "      <td>G</td>\n",
       "      <td>S</td>\n",
       "      <td>1</td>\n",
       "      <td>0.0</td>\n",
       "      <td>8</td>\n",
       "    </tr>\n",
       "    <tr>\n",
       "      <th>1</th>\n",
       "      <td>Earth</td>\n",
       "      <td>0</td>\n",
       "      <td>A</td>\n",
       "      <td>19.0</td>\n",
       "      <td>0</td>\n",
       "      <td>0.0</td>\n",
       "      <td>9.0</td>\n",
       "      <td>0.0</td>\n",
       "      <td>2823.0</td>\n",
       "      <td>0.0</td>\n",
       "      <td>F</td>\n",
       "      <td>S</td>\n",
       "      <td>1</td>\n",
       "      <td>2832.0</td>\n",
       "      <td>4</td>\n",
       "    </tr>\n",
       "    <tr>\n",
       "      <th>2</th>\n",
       "      <td>Europa</td>\n",
       "      <td>1</td>\n",
       "      <td>B</td>\n",
       "      <td>31.0</td>\n",
       "      <td>0</td>\n",
       "      <td>0.0</td>\n",
       "      <td>0.0</td>\n",
       "      <td>0.0</td>\n",
       "      <td>0.0</td>\n",
       "      <td>0.0</td>\n",
       "      <td>C</td>\n",
       "      <td>S</td>\n",
       "      <td>1</td>\n",
       "      <td>0.0</td>\n",
       "      <td>6</td>\n",
       "    </tr>\n",
       "    <tr>\n",
       "      <th>3</th>\n",
       "      <td>Europa</td>\n",
       "      <td>0</td>\n",
       "      <td>A</td>\n",
       "      <td>38.0</td>\n",
       "      <td>0</td>\n",
       "      <td>0.0</td>\n",
       "      <td>6652.0</td>\n",
       "      <td>0.0</td>\n",
       "      <td>181.0</td>\n",
       "      <td>585.0</td>\n",
       "      <td>C</td>\n",
       "      <td>S</td>\n",
       "      <td>1</td>\n",
       "      <td>7418.0</td>\n",
       "      <td>2</td>\n",
       "    </tr>\n",
       "    <tr>\n",
       "      <th>4</th>\n",
       "      <td>Earth</td>\n",
       "      <td>0</td>\n",
       "      <td>A</td>\n",
       "      <td>20.0</td>\n",
       "      <td>0</td>\n",
       "      <td>10.0</td>\n",
       "      <td>0.0</td>\n",
       "      <td>635.0</td>\n",
       "      <td>0.0</td>\n",
       "      <td>0.0</td>\n",
       "      <td>F</td>\n",
       "      <td>S</td>\n",
       "      <td>1</td>\n",
       "      <td>645.0</td>\n",
       "      <td>5</td>\n",
       "    </tr>\n",
       "  </tbody>\n",
       "</table>\n",
       "</div>"
      ],
      "text/plain": [
       "  HomePlanet  CryoSleep Destination   Age  VIP  RoomService  FoodCourt  \\\n",
       "0      Earth          1           A  27.0    0          0.0        0.0   \n",
       "1      Earth          0           A  19.0    0          0.0        9.0   \n",
       "2     Europa          1           B  31.0    0          0.0        0.0   \n",
       "3     Europa          0           A  38.0    0          0.0     6652.0   \n",
       "4      Earth          0           A  20.0    0         10.0        0.0   \n",
       "\n",
       "   ShoppingMall     Spa  VRDeck CabinDeck CabinSide  Adult  TotalSpend  \\\n",
       "0           0.0     0.0     0.0         G         S      1         0.0   \n",
       "1           0.0  2823.0     0.0         F         S      1      2832.0   \n",
       "2           0.0     0.0     0.0         C         S      1         0.0   \n",
       "3           0.0   181.0   585.0         C         S      1      7418.0   \n",
       "4         635.0     0.0     0.0         F         S      1       645.0   \n",
       "\n",
       "   FamilyMember  \n",
       "0             8  \n",
       "1             4  \n",
       "2             6  \n",
       "3             2  \n",
       "4             5  "
      ]
     },
     "execution_count": 22,
     "metadata": {},
     "output_type": "execute_result"
    }
   ],
   "source": [
    "test.head()"
   ]
  },
  {
   "cell_type": "markdown",
   "id": "7fdd8c62",
   "metadata": {
    "papermill": {
     "duration": 0.01495,
     "end_time": "2024-03-29T01:33:48.698779",
     "exception": false,
     "start_time": "2024-03-29T01:33:48.683829",
     "status": "completed"
    },
    "tags": []
   },
   "source": [
    "#### Ok, time for feature scaling (numerical features) and encoding (categorical features)."
   ]
  },
  {
   "cell_type": "code",
   "execution_count": 23,
   "id": "afc3aac3",
   "metadata": {
    "execution": {
     "iopub.execute_input": "2024-03-29T01:33:48.730440Z",
     "iopub.status.busy": "2024-03-29T01:33:48.729995Z",
     "iopub.status.idle": "2024-03-29T01:33:48.910483Z",
     "shell.execute_reply": "2024-03-29T01:33:48.909409Z"
    },
    "papermill": {
     "duration": 0.199465,
     "end_time": "2024-03-29T01:33:48.912994",
     "exception": false,
     "start_time": "2024-03-29T01:33:48.713529",
     "status": "completed"
    },
    "tags": []
   },
   "outputs": [],
   "source": [
    "# Feature Scaling\n",
    "num_features = ['Age','RoomService','FoodCourt','ShoppingMall','Spa','VRDeck','TotalSpend','FamilyMember']\n",
    "\n",
    "from sklearn.preprocessing import MinMaxScaler\n",
    "\n",
    "scaler = MinMaxScaler()\n",
    "train_num_scaled = scaler.fit_transform(train[num_features])\n",
    "test_num_scaled = scaler.transform(test[num_features])\n",
    "\n",
    "train_num_scaled = pd.DataFrame(data=train_num_scaled,columns=num_features)\n",
    "test_num_scaled = pd.DataFrame(data=test_num_scaled,columns=num_features)\n",
    "\n",
    "# Feature Encoding\n",
    "cat_features = ['HomePlanet','CryoSleep','Destination','VIP','CabinDeck','CabinSide','Adult']\n",
    "\n",
    "train_cat_encoded = pd.get_dummies(train[cat_features],drop_first=True)\n",
    "test_cat_encoded = pd.get_dummies(test[cat_features],drop_first=True)"
   ]
  },
  {
   "cell_type": "markdown",
   "id": "05217bf4",
   "metadata": {
    "papermill": {
     "duration": 0.01449,
     "end_time": "2024-03-29T01:33:48.942438",
     "exception": false,
     "start_time": "2024-03-29T01:33:48.927948",
     "status": "completed"
    },
    "tags": []
   },
   "source": [
    "#### We need to concatenate the scaled numerical features and the encoded categorical features."
   ]
  },
  {
   "cell_type": "code",
   "execution_count": 24,
   "id": "0b7abbe6",
   "metadata": {
    "execution": {
     "iopub.execute_input": "2024-03-29T01:33:48.974569Z",
     "iopub.status.busy": "2024-03-29T01:33:48.973337Z",
     "iopub.status.idle": "2024-03-29T01:33:48.983287Z",
     "shell.execute_reply": "2024-03-29T01:33:48.982296Z"
    },
    "papermill": {
     "duration": 0.028578,
     "end_time": "2024-03-29T01:33:48.985779",
     "exception": false,
     "start_time": "2024-03-29T01:33:48.957201",
     "status": "completed"
    },
    "tags": []
   },
   "outputs": [],
   "source": [
    "# Train and Test\n",
    "X = pd.concat([train_num_scaled,train_cat_encoded],axis=1)\n",
    "X_test = pd.concat([test_num_scaled,test_cat_encoded],axis=1)\n",
    "y = train.Transported\n",
    "X_all = pd.concat([X,y],axis=1)"
   ]
  },
  {
   "cell_type": "markdown",
   "id": "05b5d33b",
   "metadata": {
    "papermill": {
     "duration": 0.014465,
     "end_time": "2024-03-29T01:33:49.015245",
     "exception": false,
     "start_time": "2024-03-29T01:33:49.000780",
     "status": "completed"
    },
    "tags": []
   },
   "source": [
    "#### After all this, let's check the correlation between the engineered features and the target."
   ]
  },
  {
   "cell_type": "code",
   "execution_count": 25,
   "id": "ea8d38c3",
   "metadata": {
    "execution": {
     "iopub.execute_input": "2024-03-29T01:33:49.048558Z",
     "iopub.status.busy": "2024-03-29T01:33:49.047279Z",
     "iopub.status.idle": "2024-03-29T01:33:49.421789Z",
     "shell.execute_reply": "2024-03-29T01:33:49.420868Z"
    },
    "papermill": {
     "duration": 0.392885,
     "end_time": "2024-03-29T01:33:49.423994",
     "exception": false,
     "start_time": "2024-03-29T01:33:49.031109",
     "status": "completed"
    },
    "tags": []
   },
   "outputs": [
    {
     "data": {
      "text/plain": [
       "<AxesSubplot:>"
      ]
     },
     "execution_count": 25,
     "metadata": {},
     "output_type": "execute_result"
    },
    {
     "data": {
      "image/png": "[encoded data removed]",
      "text/plain": [
       "<Figure size 1000x500 with 1 Axes>"
      ]
     },
     "metadata": {
      "needs_background": "light"
     },
     "output_type": "display_data"
    }
   ],
   "source": [
    "plt.figure(figsize=(10,5),dpi=100)\n",
    "X_all.corr().Transported.abs().sort_values(ascending=True).iloc[:-1].plot.barh()"
   ]
  },
  {
   "cell_type": "markdown",
   "id": "9edafac4",
   "metadata": {
    "papermill": {
     "duration": 0.016586,
     "end_time": "2024-03-29T01:33:49.457933",
     "exception": false,
     "start_time": "2024-03-29T01:33:49.441347",
     "status": "completed"
    },
    "tags": []
   },
   "source": [
    "#### Seems CryoSleep and the bill amounts are higly correlated to the target.\n",
    "#### We're ready for modeling now!"
   ]
  },
  {
   "cell_type": "markdown",
   "id": "2a10c968",
   "metadata": {
    "papermill": {
     "duration": 0.015754,
     "end_time": "2024-03-29T01:33:49.489900",
     "exception": false,
     "start_time": "2024-03-29T01:33:49.474146",
     "status": "completed"
    },
    "tags": []
   },
   "source": [
    "### Part 3: Modeling"
   ]
  },
  {
   "cell_type": "markdown",
   "id": "7a0dfeb6",
   "metadata": {
    "papermill": {
     "duration": 0.015568,
     "end_time": "2024-03-29T01:33:49.521784",
     "exception": false,
     "start_time": "2024-03-29T01:33:49.506216",
     "status": "completed"
    },
    "tags": []
   },
   "source": [
    "#### First, let's do a Train Valid Split.\n",
    "#### I call it 'Train Valid' instead of 'Train Test' to avoid confusion.\n",
    "#### The Valid dataframe will be used for model evaluation below.\n",
    "#### The Test dataframe is what we will use for final prediction and submission."
   ]
  },
  {
   "cell_type": "code",
   "execution_count": 26,
   "id": "f1848b23",
   "metadata": {
    "execution": {
     "iopub.execute_input": "2024-03-29T01:33:49.555444Z",
     "iopub.status.busy": "2024-03-29T01:33:49.554759Z",
     "iopub.status.idle": "2024-03-29T01:33:49.620350Z",
     "shell.execute_reply": "2024-03-29T01:33:49.618874Z"
    },
    "papermill": {
     "duration": 0.085429,
     "end_time": "2024-03-29T01:33:49.622991",
     "exception": false,
     "start_time": "2024-03-29T01:33:49.537562",
     "status": "completed"
    },
    "tags": []
   },
   "outputs": [],
   "source": [
    "# Train Valid Split\n",
    "from sklearn.model_selection import train_test_split\n",
    "X_train, X_valid, y_train, y_valid = train_test_split(X, y, test_size=0.3, random_state=101)"
   ]
  },
  {
   "cell_type": "markdown",
   "id": "230381bd",
   "metadata": {
    "papermill": {
     "duration": 0.015494,
     "end_time": "2024-03-29T01:33:49.654258",
     "exception": false,
     "start_time": "2024-03-29T01:33:49.638764",
     "status": "completed"
    },
    "tags": []
   },
   "source": [
    "#### Let's import everthing we will be using."
   ]
  },
  {
   "cell_type": "code",
   "execution_count": 27,
   "id": "d0e83e18",
   "metadata": {
    "execution": {
     "iopub.execute_input": "2024-03-29T01:33:49.687480Z",
     "iopub.status.busy": "2024-03-29T01:33:49.687012Z",
     "iopub.status.idle": "2024-03-29T01:33:51.227393Z",
     "shell.execute_reply": "2024-03-29T01:33:51.226076Z"
    },
    "papermill": {
     "duration": 1.56026,
     "end_time": "2024-03-29T01:33:51.230187",
     "exception": false,
     "start_time": "2024-03-29T01:33:49.669927",
     "status": "completed"
    },
    "tags": []
   },
   "outputs": [
    {
     "data": {
      "text/html": [
       "<style type='text/css'>\n",
       ".datatable table.frame { margin-bottom: 0; }\n",
       ".datatable table.frame thead { border-bottom: none; }\n",
       ".datatable table.frame tr.coltypes td {  color: #FFFFFF;  line-height: 6px;  padding: 0 0.5em;}\n",
       ".datatable .bool    { background: #DDDD99; }\n",
       ".datatable .object  { background: #565656; }\n",
       ".datatable .int     { background: #5D9E5D; }\n",
       ".datatable .float   { background: #4040CC; }\n",
       ".datatable .str     { background: #CC4040; }\n",
       ".datatable .time    { background: #40CC40; }\n",
       ".datatable .row_index {  background: var(--jp-border-color3);  border-right: 1px solid var(--jp-border-color0);  color: var(--jp-ui-font-color3);  font-size: 9px;}\n",
       ".datatable .frame tbody td { text-align: left; }\n",
       ".datatable .frame tr.coltypes .row_index {  background: var(--jp-border-color0);}\n",
       ".datatable th:nth-child(2) { padding-left: 12px; }\n",
       ".datatable .hellipsis {  color: var(--jp-cell-editor-border-color);}\n",
       ".datatable .vellipsis {  background: var(--jp-layout-color0);  color: var(--jp-cell-editor-border-color);}\n",
       ".datatable .na {  color: var(--jp-cell-editor-border-color);  font-size: 80%;}\n",
       ".datatable .sp {  opacity: 0.25;}\n",
       ".datatable .footer { font-size: 9px; }\n",
       ".datatable .frame_dimensions {  background: var(--jp-border-color3);  border-top: 1px solid var(--jp-border-color0);  color: var(--jp-ui-font-color3);  display: inline-block;  opacity: 0.6;  padding: 1px 10px 1px 5px;}\n",
       "</style>\n"
      ],
      "text/plain": [
       "<IPython.core.display.HTML object>"
      ]
     },
     "metadata": {},
     "output_type": "display_data"
    }
   ],
   "source": [
    "from sklearn.model_selection import cross_val_score\n",
    "from sklearn import metrics\n",
    "\n",
    "from sklearn.linear_model import LogisticRegression\n",
    "from sklearn.tree import DecisionTreeClassifier\n",
    "from sklearn.ensemble import RandomForestClassifier\n",
    "from xgboost.sklearn import XGBClassifier\n",
    "from sklearn.ensemble import GradientBoostingClassifier\n",
    "from lightgbm import LGBMClassifier\n",
    "from catboost import CatBoostClassifier\n",
    "from sklearn.ensemble import HistGradientBoostingClassifier\n",
    "\n",
    "from sklearn.model_selection import GridSearchCV"
   ]
  },
  {
   "cell_type": "markdown",
   "id": "59266415",
   "metadata": {
    "papermill": {
     "duration": 0.015597,
     "end_time": "2024-03-29T01:33:51.262052",
     "exception": false,
     "start_time": "2024-03-29T01:33:51.246455",
     "status": "completed"
    },
    "tags": []
   },
   "source": [
    "#### Run the cell below to find out the best model(s) with their base parameters."
   ]
  },
  {
   "cell_type": "code",
   "execution_count": null,
   "id": "bf9f4c39",
   "metadata": {
    "execution": {
     "iopub.execute_input": "2024-03-29T01:16:53.087624Z",
     "iopub.status.busy": "2024-03-29T01:16:53.087208Z",
     "iopub.status.idle": "2024-03-29T01:17:33.254690Z",
     "shell.execute_reply": "2024-03-29T01:17:33.253653Z",
     "shell.execute_reply.started": "2024-03-29T01:16:53.087590Z"
    },
    "papermill": {
     "duration": null,
     "end_time": null,
     "exception": false,
     "start_time": "2024-03-29T01:33:51.277968",
     "status": "running"
    },
    "tags": []
   },
   "outputs": [],
   "source": [
    "# Logistic Regression\n",
    "print('Running LogisticRegression\\n')\n",
    "logreg = LogisticRegression(max_iter = 600)\n",
    "scores = cross_val_score(logreg,X_train,y_train,scoring='neg_mean_squared_error',cv=5)\n",
    "logreg_mse = round(abs(scores.mean()), 4)\n",
    "logreg.fit(X_train, y_train)\n",
    "y_pred = logreg.predict(X_valid)\n",
    "logreg_acc = round(metrics.accuracy_score(y_valid, y_pred), 4)\n",
    "\n",
    "\n",
    "# Decision Tree\n",
    "print('Running DecisionTreeClassifier\\n')\n",
    "decision_tree = DecisionTreeClassifier()\n",
    "scores = cross_val_score(decision_tree,X_train,y_train,scoring='neg_mean_squared_error',cv=5)\n",
    "decision_tree_mse = round(abs(scores.mean()), 4)\n",
    "decision_tree.fit(X_train, y_train)\n",
    "y_pred = decision_tree.predict(X_valid)\n",
    "decision_tree_acc = round(metrics.accuracy_score(y_valid, y_pred), 4)\n",
    "\n",
    "# Random Forest\n",
    "print('Running RandomForestClassifier\\n')\n",
    "random_forest = RandomForestClassifier()\n",
    "scores = cross_val_score(random_forest,X_train,y_train,scoring='neg_mean_squared_error',cv=5)\n",
    "random_forest_mse = round(abs(scores.mean()), 4)\n",
    "random_forest.fit(X_train, y_train)\n",
    "y_pred = random_forest.predict(X_valid)\n",
    "random_forest_acc = round(metrics.accuracy_score(y_valid, y_pred), 4)\n",
    "\n",
    "# XGBoost\n",
    "print('Running XGBClassifier\\n')\n",
    "xgb = XGBClassifier()\n",
    "scores = cross_val_score(xgb,X_train,y_train,scoring='neg_mean_squared_error',cv=5)\n",
    "xgb_mse = round(abs(scores.mean()), 4)\n",
    "xgb.fit(X_train, y_train)\n",
    "y_pred = xgb.predict(X_valid)\n",
    "xgb_acc = round(metrics.accuracy_score(y_valid, y_pred), 4)\n",
    "\n",
    "# GB\n",
    "print('Running GradientBoostingClassifier\\n')\n",
    "gb = GradientBoostingClassifier()\n",
    "scores = cross_val_score(gb,X_train,y_train,scoring='neg_mean_squared_error',cv=5)\n",
    "gb_mse = round(abs(scores.mean()), 4)\n",
    "gb.fit(X_train, y_train)\n",
    "y_pred = gb.predict(X_valid)\n",
    "gb_acc = round(metrics.accuracy_score(y_valid, y_pred), 4)\n",
    "\n",
    "# LightGBM\n",
    "print('Running LGBMClassifier\\n')\n",
    "lgbm = LGBMClassifier()\n",
    "scores = cross_val_score(lgbm,X_train,y_train,scoring='neg_mean_squared_error',cv=5)\n",
    "lgbm_mse = round(abs(scores.mean()), 4)\n",
    "lgbm.fit(X_train, y_train)\n",
    "y_pred = lgbm.predict(X_valid)\n",
    "lgbm_acc = round(metrics.accuracy_score(y_valid, y_pred), 4)\n",
    "\n",
    "# Catboost\n",
    "print('Running CatBoostClassifier\\n')\n",
    "catb = CatBoostClassifier(verbose = 0)\n",
    "scores = cross_val_score(catb,X_train,y_train,scoring='neg_mean_squared_error',cv=5)\n",
    "catb_mse = round(abs(scores.mean()), 4)\n",
    "catb.fit(X_train, y_train)\n",
    "y_pred = catb.predict(X_valid)\n",
    "catb_acc = round(metrics.accuracy_score(y_valid, y_pred), 4)\n",
    "\n",
    "# Histogram-based Gradient Boosting Classification Tree\n",
    "print('Running HistGradientBoostingClassifier\\n')\n",
    "hgb = HistGradientBoostingClassifier()\n",
    "scores = cross_val_score(hgb,X_train,y_train,scoring='neg_mean_squared_error',cv=5)\n",
    "hgb_mse = round(abs(scores.mean()), 4)\n",
    "hgb.fit(X_train, y_train)\n",
    "y_pred = hgb.predict(X_valid)\n",
    "hgb_acc = round(metrics.accuracy_score(y_valid, y_pred), 4)\n",
    "\n",
    "model_df = pd.DataFrame({\n",
    "    'Model': ['Logistic Regression', 'Decision Tree', 'Random Forest', 'XGBoost', 'GB', 'LightGBM', 'Catboost', 'HistBoost'],\n",
    "    'Train MSE': [logreg_mse, decision_tree_mse, random_forest_mse, xgb_mse, gb_mse, lgbm_mse, catb_mse, hgb_mse],\n",
    "    'Validation Accuracy': [logreg_acc, decision_tree_acc, random_forest_acc, xgb_acc, gb_acc, lgbm_acc, catb_acc, hgb_acc]\n",
    "})\n",
    "\n",
    "print(model_df.sort_values('Validation Accuracy', ascending = False).reset_index(drop = True))"
   ]
  },
  {
   "cell_type": "markdown",
   "id": "e2d81b1f",
   "metadata": {
    "papermill": {
     "duration": null,
     "end_time": null,
     "exception": null,
     "start_time": null,
     "status": "pending"
    },
    "tags": []
   },
   "source": [
    "#### Seems Catboost is one of the best option here with low Train MSE and high Validation Accuracy.\n",
    "#### Let's run a Grid Search on it to further tune the hyper parameters.\n",
    "#### Note that it might take several minutes to run the cell below.\n",
    "#### If you're eager knowing the result, skip to the cell after."
   ]
  },
  {
   "cell_type": "code",
   "execution_count": null,
   "id": "5ab0a6a1",
   "metadata": {
    "execution": {
     "iopub.execute_input": "2024-03-29T01:27:16.080162Z",
     "iopub.status.busy": "2024-03-29T01:27:16.079702Z"
    },
    "papermill": {
     "duration": null,
     "end_time": null,
     "exception": null,
     "start_time": null,
     "status": "pending"
    },
    "tags": []
   },
   "outputs": [],
   "source": [
    "#  Grid Search on Catboost\n",
    "catb = CatBoostClassifier(verbose = 0)\n",
    "param_grid = {'iterations':[300,400,500,1000],\n",
    "              'learning_rate':[0.01,0.03,0.05,0.07,0.09],\n",
    "              'depth':[2,5,10]\n",
    "             }\n",
    "\n",
    "grid = GridSearchCV(estimator=catb, param_grid=param_grid, cv=5)\n",
    "grid.fit(X,y)\n",
    "print('Mean accuracy:',grid.score(X,y))\n",
    "print('Best hyperparameters:',grid.best_params_)"
   ]
  },
  {
   "cell_type": "markdown",
   "id": "bbeca062",
   "metadata": {
    "papermill": {
     "duration": null,
     "end_time": null,
     "exception": null,
     "start_time": null,
     "status": "pending"
    },
    "tags": []
   },
   "source": [
    "#### Here we instantiate a Catboost model with tuned hyper parameters"
   ]
  },
  {
   "cell_type": "code",
   "execution_count": null,
   "id": "23e10575",
   "metadata": {
    "execution": {
     "iopub.execute_input": "2024-03-29T01:26:20.562650Z",
     "iopub.status.busy": "2024-03-29T01:26:20.562249Z",
     "iopub.status.idle": "2024-03-29T01:26:20.569151Z",
     "shell.execute_reply": "2024-03-29T01:26:20.567755Z",
     "shell.execute_reply.started": "2024-03-29T01:26:20.562618Z"
    },
    "papermill": {
     "duration": null,
     "end_time": null,
     "exception": null,
     "start_time": null,
     "status": "pending"
    },
    "tags": []
   },
   "outputs": [],
   "source": [
    "# Tuned Catboost\n",
    "catb = CatBoostClassifier(depth=5,iterations=300,learning_rate=0.05,verbose=0)"
   ]
  },
  {
   "cell_type": "markdown",
   "id": "5f78cf07",
   "metadata": {
    "papermill": {
     "duration": null,
     "end_time": null,
     "exception": null,
     "start_time": null,
     "status": "pending"
    },
    "tags": []
   },
   "source": [
    "#### Let's make a prediction and submit our result!"
   ]
  },
  {
   "cell_type": "code",
   "execution_count": null,
   "id": "a63b86dd",
   "metadata": {
    "execution": {
     "iopub.execute_input": "2024-02-29T13:36:38.169263Z",
     "iopub.status.busy": "2024-02-29T13:36:38.168695Z",
     "iopub.status.idle": "2024-02-29T13:36:39.424269Z",
     "shell.execute_reply": "2024-02-29T13:36:39.423059Z",
     "shell.execute_reply.started": "2024-02-29T13:36:38.169220Z"
    },
    "papermill": {
     "duration": null,
     "end_time": null,
     "exception": null,
     "start_time": null,
     "status": "pending"
    },
    "tags": []
   },
   "outputs": [],
   "source": [
    "# Submitting\n",
    "model=catb\n",
    "model.fit(X,y)\n",
    "predictions = model.predict(X_test)\n",
    "output = pd.DataFrame({'PassengerId': test_df.PassengerId, 'Transported': predictions})\n",
    "output['Transported'] = output['Transported'].astype('bool')\n",
    "output.to_csv('submission.csv', index=False)"
   ]
  },
  {
   "cell_type": "markdown",
   "id": "d0d1188e",
   "metadata": {
    "papermill": {
     "duration": null,
     "end_time": null,
     "exception": null,
     "start_time": null,
     "status": "pending"
    },
    "tags": []
   },
   "source": [
    "#### Are you happy with the result?\n",
    "\n",
    "#### Please upvote to support my work : )"
   ]
  }
 ],
 "metadata": {
  "kaggle": {
   "accelerator": "none",
   "dataSources": [
    {
     "databundleVersionId": 3220602,
     "sourceId": 34377,
     "sourceType": "competition"
    }
   ],
   "dockerImageVersionId": 30213,
   "isGpuEnabled": false,
   "isInternetEnabled": true,
   "language": "python",
   "sourceType": "notebook"
  },
  "kernelspec": {
   "display_name": "Python 3",
   "language": "python",
   "name": "python3"
  },
  "language_info": {
   "codemirror_mode": {
    "name": "ipython",
    "version": 3
   },
   "file_extension": ".py",
   "mimetype": "text/x-python",
   "name": "python",
   "nbconvert_exporter": "python",
   "pygments_lexer": "ipython3",
   "version": "3.7.12"
  },
  "papermill": {
   "default_parameters": {},
   "duration": null,
   "end_time": null,
   "environment_variables": {},
   "exception": null,
   "input_path": "__notebook__.ipynb",
   "output_path": "__notebook__.ipynb",
   "parameters": {},
   "start_time": "2024-03-29T01:33:35.529255",
   "version": "2.3.4"
  }
 },
 "nbformat": 4,
 "nbformat_minor": 5
}